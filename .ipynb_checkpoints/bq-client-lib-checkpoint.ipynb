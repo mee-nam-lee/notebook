{
 "cells": [
  {
   "cell_type": "code",
   "execution_count": null,
   "metadata": {},
   "outputs": [],
   "source": [
    "from google.cloud import bigquery\n",
    "bq= bigquery.Client(project='project')"
   ]
  },
  {
   "cell_type": "code",
   "execution_count": null,
   "metadata": {},
   "outputs": [],
   "source": [
    "dsinfo = bq.get_dataset('bigquery-public-data.london_bicycles')"
   ]
  },
  {
   "cell_type": "code",
   "execution_count": null,
   "metadata": {},
   "outputs": [],
   "source": [
    "print(dsinfo.dataset_id)\n",
    "print(dsinfo.created)"
   ]
  },
  {
   "cell_type": "code",
   "execution_count": null,
   "metadata": {},
   "outputs": [],
   "source": [
    "print('{} created on {} in {}'.format(dsinfo.dataset_id, dsinfo.created, dsinfo.location))"
   ]
  },
  {
   "cell_type": "code",
   "execution_count": null,
   "metadata": {},
   "outputs": [],
   "source": [
    "table_id ='{}.ch04.temp_table'.format('project')\n",
    "table = bq.create_table(table_id, exists_ok=True)"
   ]
  },
  {
   "cell_type": "code",
   "execution_count": null,
   "metadata": {},
   "outputs": [],
   "source": [
    "schema =[\n",
    "    bigquery.SchemaField(\"chapter\", \"INTEGER\", mode=\"REQUIRED\"),\n",
    "    bigquery.SchemaField(\"title\", \"STRING\", mode=\"REQUIRED\"),\n",
    "]"
   ]
  },
  {
   "cell_type": "code",
   "execution_count": null,
   "metadata": {},
   "outputs": [],
   "source": [
    "table.schema = schema\n",
    "table = bq.update_table(table, [\"schema\"])\n",
    "print(table.schema)\n",
    "print(table.etag)"
   ]
  },
  {
   "cell_type": "code",
   "execution_count": null,
   "metadata": {},
   "outputs": [],
   "source": [
    "rows =[\n",
    "    (3, u'유니코드 문자열'),\n",
    "    (4, '일반 문자열'),\n",
    "]\n",
    "errors = bq.insert_rows(table, rows)\n",
    "print(errors)"
   ]
  },
  {
   "cell_type": "code",
   "execution_count": null,
   "metadata": {},
   "outputs": [],
   "source": [
    "import pandas as pd\n",
    "data = rows =[\n",
    "    (3, u'유니코드 문자열'),\n",
    "    (4, u'일반 문자열'),\n",
    "]\n",
    "df = pd.DataFrame(data, columns=['chapter', 'title'])\n",
    "job = bq.load_table_from_dataframe(df, table_id)\n",
    "job.result()\n",
    "print(job.output_rows)"
   ]
  },
  {
   "cell_type": "code",
   "execution_count": null,
   "metadata": {},
   "outputs": [],
   "source": []
  }
 ],
 "metadata": {
  "kernelspec": {
   "display_name": "Apache Beam 2.25.0 for Python 3 [conda env:root] *",
   "language": "python",
   "name": "conda-root-py"
  },
  "language_info": {
   "codemirror_mode": {
    "name": "ipython",
    "version": 3
   },
   "file_extension": ".py",
   "mimetype": "text/x-python",
   "name": "python",
   "nbconvert_exporter": "python",
   "pygments_lexer": "ipython3",
   "version": "3.7.8"
  }
 },
 "nbformat": 4,
 "nbformat_minor": 4
}
