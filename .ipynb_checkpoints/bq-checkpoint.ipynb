{
 "cells": [
  {
   "cell_type": "code",
   "execution_count": null,
   "metadata": {},
   "outputs": [],
   "source": [
    "!pip install google-cloud-bigquery\n",
    "%load_ext google.cloud.bigquery"
   ]
  },
  {
   "cell_type": "code",
   "execution_count": null,
   "metadata": {},
   "outputs": [],
   "source": [
    "%load_ext google.cloud.bigquery"
   ]
  },
  {
   "cell_type": "code",
   "execution_count": null,
   "metadata": {},
   "outputs": [],
   "source": [
    "from google.cloud import bigquery\n",
    "client= bigquery.Client(project='project')\n",
    "\n",
    "# Perform a query.\n",
    "QUERY = (\n",
    "    'INSERT INTO poc.quota_test VALUES( 9 , \"Name\", \"M\" )')\n",
    "\n",
    "for x in range(1):\n",
    "    if(x%100 == 0):\n",
    "        print(x)\n",
    "    query_job = client.query(QUERY)  # API request"
   ]
  },
  {
   "cell_type": "code",
   "execution_count": null,
   "metadata": {},
   "outputs": [],
   "source": [
    "!bq load --source_format=CSV --autodetect --skip_leading_rows=1 poc.quota_test2 gs://bucket/quota_test.csv"
   ]
  },
  {
   "cell_type": "code",
   "execution_count": null,
   "metadata": {},
   "outputs": [],
   "source": [
    "from google.cloud import bigquery\n",
    "import time\n",
    "client= bigquery.Client(project='project')\n",
    "\n",
    "# Perform a query.\n",
    "QUERY = (\n",
    "    'UPDATE poc.quota_test SET gender = \"F\" WHERE ID = 9')\n",
    "\n",
    "for x in range(500):\n",
    "    if(x%10 == 0):\n",
    "        print(x)\n",
    "    query_job = client.query(QUERY)  # API request\n",
    "    time.sleep(1)"
   ]
  }
 ],
 "metadata": {
  "kernelspec": {
   "display_name": "Apache Beam 2.25.0 for Python 3 [conda env:root] *",
   "language": "python",
   "name": "conda-root-py"
  },
  "language_info": {
   "codemirror_mode": {
    "name": "ipython",
    "version": 3
   },
   "file_extension": ".py",
   "mimetype": "text/x-python",
   "name": "python",
   "nbconvert_exporter": "python",
   "pygments_lexer": "ipython3",
   "version": "3.7.8"
  }
 },
 "nbformat": 4,
 "nbformat_minor": 4
}
