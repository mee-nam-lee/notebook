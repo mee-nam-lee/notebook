{
 "cells": [
  {
   "cell_type": "code",
   "execution_count": null,
   "metadata": {},
   "outputs": [],
   "source": [
    "!pip install google-cloud-bigquery-storage\n",
    "!pip install --upgrade 'google-cloud-bigquery[bqstorage,pandas]'\n",
    "%load_ext google.cloud.bigquery"
   ]
  },
  {
   "cell_type": "code",
   "execution_count": null,
   "metadata": {},
   "outputs": [],
   "source": [
    "%pip show google-cloud-bigquery-storage  "
   ]
  },
  {
   "cell_type": "code",
   "execution_count": null,
   "metadata": {},
   "outputs": [],
   "source": [
    "import google.cloud.bigquery.magics\n",
    "google.cloud.bigquery.magics.context.use_bqstorage_api = True"
   ]
  },
  {
   "cell_type": "code",
   "execution_count": null,
   "metadata": {},
   "outputs": [],
   "source": [
    "%%bigquery --project project --use_bqstorage_api\n",
    "SELECT \n",
    "    start_station_name\n",
    "    , AVG(duration) AS duration\n",
    "    , COUNT(duration) AS num_trips\n",
    "FROM `bigquery-public-data`.london_bicycles.cycle_hire\n",
    "GROUP BY start_station_name\n",
    "ORDER BY num_trips DESC\n",
    "LIMIT 5"
   ]
  },
  {
   "cell_type": "code",
   "execution_count": null,
   "metadata": {},
   "outputs": [],
   "source": [
    "%%bigquery stackoverflow \n",
    "SELECT\n",
    "  CONCAT(\n",
    "    'https://stackoverflow.com/questions/',\n",
    "    CAST(id as STRING)) as url,\n",
    "  view_count\n",
    "FROM `bigquery-public-data.stackoverflow.posts_questions`\n",
    "WHERE tags like '%google-bigquery%'\n",
    "ORDER BY view_count DESC\n",
    "LIMIT 10"
   ]
  },
  {
   "cell_type": "code",
   "execution_count": null,
   "metadata": {},
   "outputs": [],
   "source": []
  }
 ],
 "metadata": {
  "kernelspec": {
   "display_name": "Apache Beam 2.25.0 for Python 3",
   "language": "python",
   "name": "python3"
  },
  "language_info": {
   "codemirror_mode": {
    "name": "ipython",
    "version": 3
   },
   "file_extension": ".py",
   "mimetype": "text/x-python",
   "name": "python",
   "nbconvert_exporter": "python",
   "pygments_lexer": "ipython3",
   "version": "3.7.8"
  }
 },
 "nbformat": 4,
 "nbformat_minor": 4
}
