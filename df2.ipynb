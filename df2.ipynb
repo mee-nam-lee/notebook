{
 "cells": [
  {
   "cell_type": "code",
   "execution_count": 16,
   "metadata": {},
   "outputs": [],
   "source": [
    "def compute_fit(row):\n",
    "    from scipy import stats\n",
    "    result = {}\n",
    "    result['station_id'] = row['start_station_id']\n",
    "    durations = row['duration_array']\n",
    "    ag, bg, cg = stats.gamma.fit(durations) \n",
    "    result['ag'] = ag\n",
    "    result['bg'] = bg\n",
    "    result['cg'] = cg\n",
    "    return result"
   ]
  },
  {
   "cell_type": "code",
   "execution_count": null,
   "metadata": {},
   "outputs": [],
   "source": [
    "import apache_beam as beam\n",
    "from apache_beam.options.pipeline_options import PipelineOptions\n",
    "\n",
    "opts = beam.pipeline.PipelineOptions(\n",
    "    flags=[],\n",
    "    project='project',\n",
    "    job_name='df-job',\n",
    "    temp_location='gs://bucket/temp',\n",
    "    region='europe-west1'\n",
    "    )\n",
    "\n",
    "RUNNER = 'DirectRunner'\n",
    "query =\"\"\"\n",
    "    #standardSQL\n",
    "    SELECT start_station_id, ARRAY_AGG(duration) AS duration_array\n",
    "    FROM `bigquery-public-data.london_bicycles.cycle_hire`\n",
    "    GROUP BY start_station_id\n",
    "\"\"\"\n",
    "with beam.Pipeline(RUNNER, options = opts) as p:\n",
    "    (p\n",
    "        | 'read_bq' >> beam.io.Read(beam.io.ReadFromBigQuery(query=query, use_standard_sql=True))\n",
    "        | 'compute_fit' >> beam.Map(compute_fit)\n",
    "        | 'write_bq' >> beam.io.gcp.bigquery.WriteToBigQuery('ch04.station_stats', schema='station_id:string,ag:FLOAT64,bq:FLOAT64,cg:FLOAT64')\n",
    "    )"
   ]
  }
 ],
 "metadata": {
  "kernelspec": {
   "display_name": "Apache Beam 2.25.0 for Python 3 [conda env:root] *",
   "language": "python",
   "name": "conda-root-py"
  },
  "language_info": {
   "codemirror_mode": {
    "name": "ipython",
    "version": 3
   },
   "file_extension": ".py",
   "mimetype": "text/x-python",
   "name": "python",
   "nbconvert_exporter": "python",
   "pygments_lexer": "ipython3",
   "version": "3.7.8"
  }
 },
 "nbformat": 4,
 "nbformat_minor": 4
}
