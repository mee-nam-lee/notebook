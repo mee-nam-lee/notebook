{
 "cells": [
  {
   "cell_type": "code",
   "execution_count": null,
   "metadata": {},
   "outputs": [],
   "source": [
    "def pull_fields(rowdict):\n",
    "    result = {}\n",
    "    for col in 'INSTNM'.split(','):\n",
    "        if col in rowdict:\n",
    "            result[col] = rowdict[col]\n"
   ]
  },
  {
   "cell_type": "code",
   "execution_count": null,
   "metadata": {},
   "outputs": [],
   "source": [
    "def parse_csv(line):\n",
    "    try:\n",
    "        values = line.split(',')\n",
    "        rowdict ={}\n",
    "        for column, value in zip(COLNAMES, values)\n",
    "            rowdict[colname] = value\n",
    "        yield rowdict\n",
    "    except:\n",
    "        logging.warn('Ignoring line ....')"
   ]
  },
  {
   "cell_type": "code",
   "execution_count": null,
   "metadata": {},
   "outputs": [],
   "source": [
    "from google.cloud import bigquery\n",
    "\n",
    "INPATTERNS ='gs://bigquery-orelly-book/college_*.csv'\n",
    "RUNNER = 'DataflowRunner'\n",
    "with beam.Pipeline(RUNNER, options = opt) as p:\n",
    "    (p\n",
    "     | 'read' >> beam.io.ReadFromText(INPATTERNS, skip_header_lines=1)\n",
    "     | 'parse_csv' >> beam.FlatMap(parse_csv)\n",
    "     | 'pull_fields' >> beam.FlatMap(pull_fields)\n",
    "     | 'wirte_bq' >> beam.io.gcp.bigquery.WriteToBigQuery(bqtable, bqdataset, schema=get_output_schema())\n",
    "    )"
   ]
  }
 ],
 "metadata": {
  "kernelspec": {
   "display_name": "Apache Beam 2.25.0 for Python 3",
   "language": "python",
   "name": "python3"
  },
  "language_info": {
   "codemirror_mode": {
    "name": "ipython",
    "version": 3
   },
   "file_extension": ".py",
   "mimetype": "text/x-python",
   "name": "python",
   "nbconvert_exporter": "python",
   "pygments_lexer": "ipython3",
   "version": "3.7.8"
  }
 },
 "nbformat": 4,
 "nbformat_minor": 4
}
